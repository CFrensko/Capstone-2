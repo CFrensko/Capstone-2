{
 "cells": [
  {
   "cell_type": "markdown",
   "metadata": {},
   "source": [
    "# Capstone Project 2: Lending Club"
   ]
  },
  {
   "cell_type": "markdown",
   "metadata": {},
   "source": [
    "# Inferential Statistics"
   ]
  },
  {
   "cell_type": "code",
   "execution_count": null,
   "metadata": {
    "collapsed": true
   },
   "outputs": [],
   "source": [
    "import pandas as pd #for building pandas dataframes for analysis\n",
    "#pd.set_option('display.height', 1000)\n",
    "pd.set_option('display.max_rows', 500)\n",
    "pd.set_option('display.max_columns', 500)\n",
    "pd.set_option('display.width', 1000)\n",
    "\n",
    "import numpy as np #fundamental package for scientific computing with Python\n",
    "\n",
    "import matplotlib.pyplot as plt #for visualizations\n",
    "import seaborn as sns #for neat visualizations\n",
    "import scipy.stats as stats #large number of probability distributions and statistical functions\n",
    "import statsmodels as sm #provides estimation of many different statistical models, tests and data exploration \n",
    "\n",
    "from ggplot import *\n",
    "%matplotlib notebook\n",
    "%matplotlib inline\n",
    "\n",
    "from scipy import stats\n",
    "import collections"
   ]
  },
  {
   "cell_type": "code",
   "execution_count": null,
   "metadata": {
    "collapsed": true
   },
   "outputs": [],
   "source": [
    "#Cleaned Approved Data\n",
    "approved1 = pd.read_csv('/Users/carolinerosefrensko/Downloads/data_wrangling_json/approved2018-08-14.csv')\n",
    "approved1.head()"
   ]
  },
  {
   "cell_type": "code",
   "execution_count": null,
   "metadata": {
    "collapsed": true
   },
   "outputs": [],
   "source": [
    "approved1.describe()"
   ]
  },
  {
   "cell_type": "code",
   "execution_count": null,
   "metadata": {
    "collapsed": true
   },
   "outputs": [],
   "source": [
    "#Cleaned Approved Data Separated\n",
    "approved2 = pd.read_csv('/Users/carolinerosefrensko/Downloads/data_wrangling_json/approved22018-08-14.csv')\n",
    "approved2.head()"
   ]
  },
  {
   "cell_type": "markdown",
   "metadata": {},
   "source": [
    "## Heat Map"
   ]
  },
  {
   "cell_type": "code",
   "execution_count": null,
   "metadata": {
    "collapsed": true
   },
   "outputs": [],
   "source": [
    "corr = approved2.corr()\n",
    "\n",
    "mask = np.zeros_like(corr, dtype=np.bool)\n",
    "mask[np.triu_indices_from(mask)] = True\n",
    "\n",
    "f, ax = plt.subplots(figsize=(11, 9))\n",
    "\n",
    "cmap = sns.diverging_palette(220, 10, as_cmap=True)\n",
    "\n",
    "sns.heatmap(corr, mask=mask, cmap=cmap, vmax=.3, center=0,\n",
    "            square=True, linewidths=.5, cbar_kws={\"shrink\": .5})\n",
    "plt.title('Correlation Heat Map of the Filtered Dataframe')\n",
    "plt.show()"
   ]
  },
  {
   "cell_type": "code",
   "execution_count": null,
   "metadata": {
    "collapsed": true
   },
   "outputs": [],
   "source": [
    "corr_matrix = approved2.corr()\n",
    "corr_matrix[\"loan_status_separated\"].sort_values(ascending=False)"
   ]
  },
  {
   "cell_type": "markdown",
   "metadata": {},
   "source": [
    "## Hypothesis Testing"
   ]
  },
  {
   "cell_type": "markdown",
   "metadata": {
    "collapsed": true
   },
   "source": [
    "### Examining Home Ownership in Approved Good and Bad Loans"
   ]
  },
  {
   "cell_type": "markdown",
   "metadata": {},
   "source": [
    "The end goal of performing a hypothsis test is to evaluate the variability of home ownership within the different loan status's in this data set. The two sample test test is applied to compare whether the average difference between the two groups is really significant or if it is due instead to random chance. \n",
    "\n",
    "In this scenario since there is a large sample size with a binomial population ('1' and '0') but the standard deviation is unknown, we should use a 2-sample t-test. With the large data set (>30) we can assume the means are normally distributed across the sample and the central limit theorem applies to this problem."
   ]
  },
  {
   "cell_type": "markdown",
   "metadata": {},
   "source": [
    "In the dataset provided, each row represents a loan. The 'loan status separated' column has two values, '1' and '0', indicating good loan(paid/current) and bad loan (charged off/default). The column 'home ownership' has 2 values, 1 and 0, indicating whether the person taking the loan owns their home (1 being a home owner 0 being a renter or other). The end goal is to evaluate if loan status impacts the home ownership in this collected sample.\n",
    "\n",
    "The Null Hypothesis: Approved Good and Bad loans have the same home ownership values.  \n",
    "\n",
    "The Alternative Hypothesis: Approved Good and Bad loans have different home ownership values."
   ]
  },
  {
   "cell_type": "markdown",
   "metadata": {},
   "source": [
    "### Compute margin of error, confidence interval, and p-value"
   ]
  },
  {
   "cell_type": "code",
   "execution_count": null,
   "metadata": {
    "collapsed": true
   },
   "outputs": [],
   "source": [
    "# Separate into two datasets\n",
    "g = approved1[approved1.loan_status_separated== 1]\n",
    "b = approved1[approved1.loan_status_separated== 0]\n",
    "\n",
    "# Number of loans\n",
    "n_g = len(g)\n",
    "n_b = len(b)\n",
    "\n",
    "# Proportion of home ownership\n",
    "prop_g = np.sum(g['home_ownership_separated']) / n_g\n",
    "prop_b = np.sum(b['home_ownership_separated']) / n_b\n",
    "print('Percentage of home_ownership for good_loans: ', prop_g)\n",
    "print('Percentage of home_ownership for bad_loans: ', prop_b)\n",
    "\n",
    "# Difference in proportion of home ownership\n",
    "prop_diff = prop_g - prop_b\n",
    "print('Difference in percentage of home ownership: ', prop_diff)\n",
    "\n",
    "# T-score\n",
    "t_stat, p = stats.ttest_ind(g['home_ownership_separated'],b['home_ownership_separated'],equal_var=False)\n",
    "print('t-statistic: ', t_stat)\n",
    "print('p-value: ', p)\n",
    "\n",
    "# Standard error\n",
    "s_error = np.sqrt(g['home_ownership_separated'].var()/n_g + b['home_ownership_separated'].var()/n_b)\n",
    "\n",
    "# Margin of error = Critical value x Standard error of the statistic\n",
    "m_error = 1.96 * s_error\n",
    "print('Margin of error:', m_error)\n",
    "\n",
    "# Confidence Interval\n",
    "c_int = prop_diff + (np.array([-1, 1]) * m_error)\n",
    "print('Confidence interval:', c_int)\n",
    "\n",
    "# p-value\n",
    "p_value = stats.norm.cdf(-t_stat) * 2\n",
    "print('p-value:', p_value)\n",
    "\n",
    "prop_g/prop_b"
   ]
  },
  {
   "cell_type": "markdown",
   "metadata": {},
   "source": [
    "### Frequentist Bootstrapping"
   ]
  },
  {
   "cell_type": "markdown",
   "metadata": {},
   "source": [
    "Resample from the same dataframe with the assumption that there is no difference between the two proportions."
   ]
  },
  {
   "cell_type": "code",
   "execution_count": null,
   "metadata": {
    "collapsed": true
   },
   "outputs": [],
   "source": [
    "df = approved1[['loan_status_separated','home_ownership_separated']]\n",
    "\n",
    "def get_prop_diff(sample1, sample2):\n",
    "    \n",
    "    prop_g = np.sum(sample1['home_ownership_separated'] == 1)/len(sample1)\n",
    "    prop_b = np.sum(sample2['home_ownership_separated'] == 1)/len(sample2)\n",
    "    \n",
    "    return abs(prop_g-prop_b)\n",
    "    \n",
    "def get_bs_samples_diff(sample1, sample2, func, size):\n",
    "    length1 = len(sample1)\n",
    "    length2 = len(sample2)\n",
    "    bs_prop_diffs = np.empty(size)\n",
    "    \n",
    "    for i in range(size):\n",
    "        combined_sample = pd.concat([sample1,sample2])\n",
    "        ]\\==      shuffled_sample = combined_sample.sample(length1+length2).reset_index(drop=True)\n",
    "\n",
    "        new_sample1 = shuffled_sample.iloc[:length1,:]\n",
    "        new_sample2 = shuffled_sample.iloc[length1:,:]\n",
    "        \n",
    "        bs_prop_diffs[i] = func(new_sample1,new_sample2)\n",
    "        \n",
    "    return bs_prop_diffs"
   ]
  },
  {
   "cell_type": "code",
   "execution_count": null,
   "metadata": {
    "collapsed": true
   },
   "outputs": [],
   "source": [
    "bs_samples_diff = get_bs_samples_diff(df[approved1.loan_status_separated==1], \n",
    "                                      df[approved1.loan_status_separated==0], get_prop_diff, 1000)\n",
    "print(bs_samples_diff[:5])"
   ]
  },
  {
   "cell_type": "code",
   "execution_count": null,
   "metadata": {
    "collapsed": true
   },
   "outputs": [],
   "source": [
    "# p value\n",
    "p = np.sum(bs_samples_diff > prop_diff)/len(bs_samples_diff)\n",
    "print(p)"
   ]
  },
  {
   "cell_type": "markdown",
   "metadata": {},
   "source": [
    "A 0 in 1,000 probability of getting a sample as extreme as the diffence that we see in our samples suggests there is an impact of home ownership on good vs. bad loans."
   ]
  },
  {
   "cell_type": "markdown",
   "metadata": {},
   "source": [
    "### Hypothesis Testing Assesment"
   ]
  },
  {
   "cell_type": "markdown",
   "metadata": {},
   "source": [
    "After analysis on this data set it appears that home ownership has a significant value difference in good vs bad loans. The results from the tests show that the percentage of home ownership for good_loans is 61.17 percent and the percentage of home ownership for bad loans is 52.96 percent. This difference in percentage of home ownership is 8.2 percent. \n",
    "\n",
    "We performed a few tests to see if this difference could be perceived as random using a 2 sample t-test and frequentist bootstrapping. The p-value for the t-test and bootstrapping are both 0 so we can reject the null hypothesis. \n",
    "\n",
    "This would mean loan status is impacted by home ownership in this collected sample. There are however other variables (verification, grade, employment length, term) in the study that also should be taken into consideration in further investigation. "
   ]
  }
 ],
 "metadata": {
  "kernelspec": {
   "display_name": "Python 3",
   "language": "python",
   "name": "python3"
  },
  "language_info": {
   "codemirror_mode": {
    "name": "ipython",
    "version": 3
   },
   "file_extension": ".py",
   "mimetype": "text/x-python",
   "name": "python",
   "nbconvert_exporter": "python",
   "pygments_lexer": "ipython3",
   "version": "3.6.3"
  }
 },
 "nbformat": 4,
 "nbformat_minor": 2
}
